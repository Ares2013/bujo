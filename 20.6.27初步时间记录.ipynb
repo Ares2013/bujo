{
 "cells": [
  {
   "cell_type": "markdown",
   "metadata": {},
   "source": [
    "### 事项用时时间\n",
    "\n",
    "早晨-中午\n",
    "\n",
    "* 睡眠 5小时\n",
    "* 洗漱 15分钟\n",
    "* 冲凉 8分钟\n",
    "* 睡觉休息 25分钟\n",
    "* 跳绳跑步 35分钟\n",
    "* 吃饭 15分钟\n",
    "* 写日记 53分钟\n",
    "\n",
    "下午时间段\n",
    "\n",
    "* 跳绳跑步 25分钟\n",
    "\n",
    "### bujo\n",
    "\n",
    "* [x] 重新登录知乎查看某篇文章，并链接至存储库\n",
    "* [x] 写日记\n",
    "* [x] 决定自己的python发展方向（自动化运维）\n",
    "\n",
    "tip\n",
    "\n",
    "* !- 发展键盘弹钢琴爱好（没准还可以用来让精神得到充分休息）\n",
    "* !- 我发现一旦进入私企，我就再也无法停下思考向前迈进了，成为社会不停滚动的齿轮\n",
    "\n",
    "这个阶段，这年所面临的一些问题：\n",
    "\n",
    "* 写简历，找工作（桌面、网络）\n",
    "* 考证（26岁前考取中级厂商证书）\n",
    "* 35岁中年危机被清退的谋划（英语、日语翻译）\n",
    "\n",
    "写简历，翻看招聘网站调查企业需要什么？考证和学python这些在一天中可不可以同步进行？如果进行去复习和巩固？\n",
    "\n",
    "* < 随时取回百度账号，必要时转出\n",
    "* < 将华为题库转为ipython格式（它的分享就像百度网盘一样那么多，大胆地做就是了）\n",
    "\n",
    "想办法变现成自己东西！哈哈。现在绘图，居然还有《python金融大数据分析》\n",
    "\n",
    "* [cnblogs-python绘图与可视化](https://www.cnblogs.com/dudududu/p/9149762.html)\n",
    "* [csdn-Python开发 之 各种可视化图表的绘制](https://blog.csdn.net/u014597198/article/details/89682527)\n",
    "* [脚本之家-Python干货：分享Python绘制六种可视化图表](https://www.jb51.net/article/146358.htm)\n",
    "* [15 种最常用的 matplotlib 可视化图表](https://blog.csdn.net/weixin_31351409/article/details/105132370)\n"
   ]
  },
  {
   "cell_type": "code",
   "execution_count": null,
   "metadata": {},
   "outputs": [],
   "source": []
  }
 ],
 "metadata": {
  "kernelspec": {
   "display_name": "Python 3",
   "language": "python",
   "name": "python3"
  },
  "language_info": {
   "codemirror_mode": {
    "name": "ipython",
    "version": 3
   },
   "file_extension": ".py",
   "mimetype": "text/x-python",
   "name": "python",
   "nbconvert_exporter": "python",
   "pygments_lexer": "ipython3",
   "version": "3.7.3"
  },
  "toc": {
   "base_numbering": 1,
   "nav_menu": {},
   "number_sections": true,
   "sideBar": true,
   "skip_h1_title": false,
   "title_cell": "Table of Contents",
   "title_sidebar": "Contents",
   "toc_cell": false,
   "toc_position": {},
   "toc_section_display": true,
   "toc_window_display": false
  }
 },
 "nbformat": 4,
 "nbformat_minor": 4
}
